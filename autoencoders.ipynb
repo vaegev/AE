{
  "nbformat": 4,
  "nbformat_minor": 0,
  "metadata": {
    "colab": {
      "name": "autoencoders.ipynb",
      "version": "0.3.2",
      "provenance": [],
      "collapsed_sections": [],
      "toc_visible": true
    },
    "kernelspec": {
      "name": "python3",
      "display_name": "Python 3"
    },
    "accelerator": "TPU"
  },
  "cells": [
    {
      "metadata": {
        "id": "DwidBrvxUAbj",
        "colab_type": "text"
      },
      "cell_type": "markdown",
      "source": [
        "# Install PyTorch"
      ]
    },
    {
      "metadata": {
        "id": "3Tjv9dWP8xeV",
        "colab_type": "code",
        "colab": {}
      },
      "cell_type": "code",
      "source": [
        "from os.path import exists\n",
        "from wheel.pep425tags import get_abbr_impl, get_impl_ver, get_abi_tag\n",
        "platform = '{}{}-{}'.format(get_abbr_impl(), get_impl_ver(), get_abi_tag())\n",
        "cuda_output = !ldconfig -p|grep cudart.so|sed -e 's/.*\\.\\([0-9]*\\)\\.\\([0-9]*\\)$/cu\\1\\2/'\n",
        "accelerator = cuda_output[0] if exists('/dev/nvidia0') else 'cpu'\n",
        "\n",
        "!pip install -q http://download.pytorch.org/whl/{accelerator}/torch-0.4.1-{platform}-linux_x86_64.whl torchvision"
      ],
      "execution_count": 0,
      "outputs": []
    },
    {
      "metadata": {
        "id": "0uvIx1vdUJ7c",
        "colab_type": "code",
        "colab": {}
      },
      "cell_type": "code",
      "source": [
        "import numpy as np\n",
        "import pandas as pd\n",
        "\n",
        "# torch\n",
        "import torch\n",
        "import torch.nn as nn\n",
        "import torch.nn.parallel\n",
        "import torch.optim as optim\n",
        "import torch.utils.data\n",
        "from torch.autograd import Variable"
      ],
      "execution_count": 0,
      "outputs": []
    },
    {
      "metadata": {
        "id": "YK4aNzbPUdIf",
        "colab_type": "text"
      },
      "cell_type": "markdown",
      "source": [
        "# Data preprocessing"
      ]
    },
    {
      "metadata": {
        "id": "I9ddgGACUXCo",
        "colab_type": "code",
        "colab": {}
      },
      "cell_type": "code",
      "source": [
        "# Importing the dataset\n",
        "movies = pd.read_csv('movies.dat', sep = '::', header = None, engine = 'python', encoding = 'latin-1')\n",
        "users = pd.read_csv('users.dat', sep = '::', header = None, engine = 'python', encoding = 'latin-1')\n",
        "ratings = pd.read_csv('ratings.dat', sep = '::', header = None, engine = 'python', encoding = 'latin-1')\n",
        "\n",
        "# Preparing the training set and the test set\n",
        "training_set = pd.read_csv('u1.base', delimiter = '\\t')\n",
        "training_set = np.array(training_set, dtype = 'int')\n",
        "test_set = pd.read_csv('u1.test', delimiter = '\\t')\n",
        "test_set = np.array(test_set, dtype = 'int')\n",
        "\n",
        "# Getting the number of users and movies\n",
        "nb_users = int(max(max(training_set[:,0]), max(test_set[:,0])))\n",
        "nb_movies = int(max(max(training_set[:,1]), max(test_set[:,1])))\n",
        "\n",
        "# Converting the data into an array with users in lines and movies in columns\n",
        "def convert(data):\n",
        "    new_data = []\n",
        "    for id_users in range(1, nb_users + 1):\n",
        "        id_movies = data[:,1][data[:,0] == id_users]\n",
        "        id_ratings = data[:,2][data[:,0] == id_users]\n",
        "        ratings = np.zeros(nb_movies)\n",
        "        ratings[id_movies - 1] = id_ratings\n",
        "        new_data.append(list(ratings))\n",
        "    return new_data\n",
        "training_set = convert(training_set)\n",
        "test_set = convert(test_set)\n",
        "\n",
        "# Converting the data into Torch tensors\n",
        "training_set = torch.FloatTensor(training_set)\n",
        "test_set = torch.FloatTensor(test_set)\n",
        "\n",
        "# Converting the ratings into binary ratings 1 (Liked) or 0 (Not Liked)\n",
        "training_set[training_set == 0] = -1\n",
        "training_set[training_set == 1] = 0\n",
        "training_set[training_set == 2] = 0\n",
        "training_set[training_set >= 3] = 1\n",
        "test_set[test_set == 0] = -1\n",
        "test_set[test_set == 1] = 0\n",
        "test_set[test_set == 2] = 0\n",
        "test_set[test_set >= 3] = 1"
      ],
      "execution_count": 0,
      "outputs": []
    },
    {
      "metadata": {
        "id": "fcbRAawTVMYh",
        "colab_type": "text"
      },
      "cell_type": "markdown",
      "source": [
        "# NN Architeture"
      ]
    },
    {
      "metadata": {
        "id": "lUar1FoNUiu7",
        "colab_type": "code",
        "colab": {}
      },
      "cell_type": "code",
      "source": [
        "class SAE(nn.Module):\n",
        "    def __init__(self, ):\n",
        "        super(SAE, self).__init__()\n",
        "        self.fc1 = nn.Linear(nb_movies, 20)\n",
        "        self.fc2 = nn.Linear(20, 10)\n",
        "        self.fc3 = nn.Linear(10, 20)\n",
        "        self.fc4 = nn.Linear(20, nb_movies)\n",
        "        self.activation = nn.Sigmoid()\n",
        "    def forward(self, x):\n",
        "        x = self.activation(self.fc1(x))\n",
        "        x = self.activation(self.fc2(x))\n",
        "        x = self.activation(self.fc3(x))\n",
        "        x = self.fc4(x)\n",
        "        return x"
      ],
      "execution_count": 0,
      "outputs": []
    },
    {
      "metadata": {
        "id": "ZLcEbIHLV3VG",
        "colab_type": "code",
        "colab": {}
      },
      "cell_type": "code",
      "source": [
        "sae = SAE()\n",
        "criterion = nn.MSELoss()\n",
        "optimizer = optim.RMSprop(sae.parameters(), lr = 0.01, weight_decay = 0.5)"
      ],
      "execution_count": 0,
      "outputs": []
    },
    {
      "metadata": {
        "id": "CuaZgyfiYP-T",
        "colab_type": "text"
      },
      "cell_type": "markdown",
      "source": [
        "# Training SAE"
      ]
    },
    {
      "metadata": {
        "id": "c_M6RqsHYTQ0",
        "colab_type": "code",
        "colab": {
          "base_uri": "https://localhost:8080/",
          "height": 3471
        },
        "outputId": "9b9fc43a-f953-4d9c-8afb-617c4ab69ef7"
      },
      "cell_type": "code",
      "source": [
        "nb_epoch = 200\n",
        "for epoch in range(1, nb_epoch + 1):\n",
        "    train_loss = 0\n",
        "    s = 0.\n",
        "    for id_user in range(nb_users):\n",
        "        inputt = Variable(training_set[id_user]).unsqueeze(0)\n",
        "        target = inputt.clone()\n",
        "        if torch.sum(target.data > 0) > 0:\n",
        "            output = sae(inputt)\n",
        "            target.require_grad = False\n",
        "            output[target == 0] = 0\n",
        "            loss = criterion(output, target)\n",
        "            mean_corrector = nb_movies/float(torch.sum(target.data > 0) + 1e-10)\n",
        "            loss.backward()\n",
        "            train_loss += np.sqrt(loss.data[0]*mean_corrector)\n",
        "            s += 1.\n",
        "            optimizer.step()\n",
        "    print('epoch: '+str(epoch)+' loss: '+str(train_loss/s))"
      ],
      "execution_count": 26,
      "outputs": [
        {
          "output_type": "stream",
          "text": [
            "/usr/local/lib/python3.6/dist-packages/ipykernel_launcher.py:15: UserWarning: invalid index of a 0-dim tensor. This will be an error in PyTorch 0.5. Use tensor.item() to convert a 0-dim tensor to a Python number\n",
            "  from ipykernel import kernelapp as app\n"
          ],
          "name": "stderr"
        },
        {
          "output_type": "stream",
          "text": [
            "epoch: 1 loss: tensor(2.2468)\n",
            "epoch: 2 loss: tensor(2.1007)\n",
            "epoch: 3 loss: tensor(2.0746)\n",
            "epoch: 4 loss: tensor(2.0523)\n",
            "epoch: 5 loss: tensor(2.0396)\n",
            "epoch: 6 loss: tensor(2.0341)\n",
            "epoch: 7 loss: tensor(2.0294)\n",
            "epoch: 8 loss: tensor(2.0261)\n",
            "epoch: 9 loss: tensor(2.0219)\n",
            "epoch: 10 loss: tensor(2.0180)\n",
            "epoch: 11 loss: tensor(2.0095)\n",
            "epoch: 12 loss: tensor(2.0048)\n",
            "epoch: 13 loss: tensor(1.9979)\n",
            "epoch: 14 loss: tensor(1.9921)\n",
            "epoch: 15 loss: tensor(1.9690)\n",
            "epoch: 16 loss: tensor(1.9349)\n",
            "epoch: 17 loss: tensor(1.9087)\n",
            "epoch: 18 loss: tensor(1.8918)\n",
            "epoch: 19 loss: tensor(1.8924)\n",
            "epoch: 20 loss: tensor(1.8806)\n",
            "epoch: 21 loss: tensor(1.8773)\n",
            "epoch: 22 loss: tensor(1.8720)\n",
            "epoch: 23 loss: tensor(1.8674)\n",
            "epoch: 24 loss: tensor(1.8762)\n",
            "epoch: 25 loss: tensor(1.8731)\n",
            "epoch: 26 loss: tensor(1.8717)\n",
            "epoch: 27 loss: tensor(1.8687)\n",
            "epoch: 28 loss: tensor(1.8652)\n",
            "epoch: 29 loss: tensor(1.8619)\n",
            "epoch: 30 loss: tensor(1.8619)\n",
            "epoch: 31 loss: tensor(1.8618)\n",
            "epoch: 32 loss: tensor(1.8613)\n",
            "epoch: 33 loss: tensor(1.8588)\n",
            "epoch: 34 loss: tensor(1.8584)\n",
            "epoch: 35 loss: tensor(1.8565)\n",
            "epoch: 36 loss: tensor(1.8562)\n",
            "epoch: 37 loss: tensor(1.8556)\n",
            "epoch: 38 loss: tensor(1.8549)\n",
            "epoch: 39 loss: tensor(1.8529)\n",
            "epoch: 40 loss: tensor(1.8530)\n",
            "epoch: 41 loss: tensor(1.8519)\n",
            "epoch: 42 loss: tensor(1.8512)\n",
            "epoch: 43 loss: tensor(1.8516)\n",
            "epoch: 44 loss: tensor(1.8455)\n",
            "epoch: 45 loss: tensor(1.8476)\n",
            "epoch: 46 loss: tensor(1.8490)\n",
            "epoch: 47 loss: tensor(1.8486)\n",
            "epoch: 48 loss: tensor(1.8486)\n",
            "epoch: 49 loss: tensor(1.8475)\n",
            "epoch: 50 loss: tensor(1.8466)\n",
            "epoch: 51 loss: tensor(1.8462)\n",
            "epoch: 52 loss: tensor(1.8481)\n",
            "epoch: 53 loss: tensor(1.8435)\n",
            "epoch: 54 loss: tensor(1.8444)\n",
            "epoch: 55 loss: tensor(1.8456)\n",
            "epoch: 56 loss: tensor(1.8460)\n",
            "epoch: 57 loss: tensor(1.8443)\n",
            "epoch: 58 loss: tensor(1.8448)\n",
            "epoch: 59 loss: tensor(1.8449)\n",
            "epoch: 60 loss: tensor(1.8448)\n",
            "epoch: 61 loss: tensor(1.8440)\n",
            "epoch: 62 loss: tensor(1.8440)\n",
            "epoch: 63 loss: tensor(1.8427)\n",
            "epoch: 64 loss: tensor(1.8434)\n",
            "epoch: 65 loss: tensor(1.8407)\n",
            "epoch: 66 loss: tensor(1.8397)\n",
            "epoch: 67 loss: tensor(1.8411)\n",
            "epoch: 68 loss: tensor(1.8420)\n",
            "epoch: 69 loss: tensor(1.8411)\n",
            "epoch: 70 loss: tensor(1.8411)\n",
            "epoch: 71 loss: tensor(1.8400)\n",
            "epoch: 72 loss: tensor(1.8405)\n",
            "epoch: 73 loss: tensor(1.8404)\n",
            "epoch: 74 loss: tensor(1.8395)\n",
            "epoch: 75 loss: tensor(1.8395)\n",
            "epoch: 76 loss: tensor(1.8404)\n",
            "epoch: 77 loss: tensor(1.8370)\n",
            "epoch: 78 loss: tensor(1.8384)\n",
            "epoch: 79 loss: tensor(1.8382)\n",
            "epoch: 80 loss: tensor(1.8382)\n",
            "epoch: 81 loss: tensor(1.8376)\n",
            "epoch: 82 loss: tensor(1.8390)\n",
            "epoch: 83 loss: tensor(1.8372)\n",
            "epoch: 84 loss: tensor(1.8371)\n",
            "epoch: 85 loss: tensor(1.8378)\n",
            "epoch: 86 loss: tensor(1.8381)\n",
            "epoch: 87 loss: tensor(1.8354)\n",
            "epoch: 88 loss: tensor(1.8368)\n",
            "epoch: 89 loss: tensor(1.8361)\n",
            "epoch: 90 loss: tensor(1.8344)\n",
            "epoch: 91 loss: tensor(1.8364)\n",
            "epoch: 92 loss: tensor(1.8349)\n",
            "epoch: 93 loss: tensor(1.8345)\n",
            "epoch: 94 loss: tensor(1.8357)\n",
            "epoch: 95 loss: tensor(1.8362)\n",
            "epoch: 96 loss: tensor(1.8354)\n",
            "epoch: 97 loss: tensor(1.8362)\n",
            "epoch: 98 loss: tensor(1.8358)\n",
            "epoch: 99 loss: tensor(1.8351)\n",
            "epoch: 100 loss: tensor(1.8351)\n",
            "epoch: 101 loss: tensor(1.8346)\n",
            "epoch: 102 loss: tensor(1.8331)\n",
            "epoch: 103 loss: tensor(1.8355)\n",
            "epoch: 104 loss: tensor(1.8348)\n",
            "epoch: 105 loss: tensor(1.8349)\n",
            "epoch: 106 loss: tensor(1.8346)\n",
            "epoch: 107 loss: tensor(1.8345)\n",
            "epoch: 108 loss: tensor(1.8340)\n",
            "epoch: 109 loss: tensor(1.8341)\n",
            "epoch: 110 loss: tensor(1.8341)\n",
            "epoch: 111 loss: tensor(1.8342)\n",
            "epoch: 112 loss: tensor(1.8338)\n",
            "epoch: 113 loss: tensor(1.8331)\n",
            "epoch: 114 loss: tensor(1.8339)\n",
            "epoch: 115 loss: tensor(1.8340)\n",
            "epoch: 116 loss: tensor(1.8333)\n",
            "epoch: 117 loss: tensor(1.8338)\n",
            "epoch: 118 loss: tensor(1.8333)\n",
            "epoch: 119 loss: tensor(1.8315)\n",
            "epoch: 120 loss: tensor(1.8315)\n",
            "epoch: 121 loss: tensor(1.8318)\n",
            "epoch: 122 loss: tensor(1.8324)\n",
            "epoch: 123 loss: tensor(1.8325)\n",
            "epoch: 124 loss: tensor(1.8330)\n",
            "epoch: 125 loss: tensor(1.8329)\n",
            "epoch: 126 loss: tensor(1.8322)\n",
            "epoch: 127 loss: tensor(1.8328)\n",
            "epoch: 128 loss: tensor(1.8322)\n",
            "epoch: 129 loss: tensor(1.8318)\n",
            "epoch: 130 loss: tensor(1.8319)\n",
            "epoch: 131 loss: tensor(1.8316)\n",
            "epoch: 132 loss: tensor(1.8321)\n",
            "epoch: 133 loss: tensor(1.8316)\n",
            "epoch: 134 loss: tensor(1.8314)\n",
            "epoch: 135 loss: tensor(1.8311)\n",
            "epoch: 136 loss: tensor(1.8322)\n",
            "epoch: 137 loss: tensor(1.8313)\n",
            "epoch: 138 loss: tensor(1.8305)\n",
            "epoch: 139 loss: tensor(1.8309)\n",
            "epoch: 140 loss: tensor(1.8299)\n",
            "epoch: 141 loss: tensor(1.8305)\n",
            "epoch: 142 loss: tensor(1.8302)\n",
            "epoch: 143 loss: tensor(1.8303)\n",
            "epoch: 144 loss: tensor(1.8302)\n",
            "epoch: 145 loss: tensor(1.8309)\n",
            "epoch: 146 loss: tensor(1.8315)\n",
            "epoch: 147 loss: tensor(1.8314)\n",
            "epoch: 148 loss: tensor(1.8307)\n",
            "epoch: 149 loss: tensor(1.8308)\n",
            "epoch: 150 loss: tensor(1.8309)\n",
            "epoch: 151 loss: tensor(1.8311)\n",
            "epoch: 152 loss: tensor(1.8311)\n",
            "epoch: 153 loss: tensor(1.8306)\n",
            "epoch: 154 loss: tensor(1.8315)\n",
            "epoch: 155 loss: tensor(1.8302)\n",
            "epoch: 156 loss: tensor(1.8307)\n",
            "epoch: 157 loss: tensor(1.8301)\n",
            "epoch: 158 loss: tensor(1.8302)\n",
            "epoch: 159 loss: tensor(1.8304)\n",
            "epoch: 160 loss: tensor(1.8301)\n",
            "epoch: 161 loss: tensor(1.8298)\n",
            "epoch: 162 loss: tensor(1.8297)\n",
            "epoch: 163 loss: tensor(1.8302)\n",
            "epoch: 164 loss: tensor(1.8302)\n",
            "epoch: 165 loss: tensor(1.8299)\n",
            "epoch: 166 loss: tensor(1.8299)\n",
            "epoch: 167 loss: tensor(1.8296)\n",
            "epoch: 168 loss: tensor(1.8297)\n",
            "epoch: 169 loss: tensor(1.8295)\n",
            "epoch: 170 loss: tensor(1.8292)\n",
            "epoch: 171 loss: tensor(1.8288)\n",
            "epoch: 172 loss: tensor(1.8291)\n",
            "epoch: 173 loss: tensor(1.8292)\n",
            "epoch: 174 loss: tensor(1.8293)\n",
            "epoch: 175 loss: tensor(1.8290)\n",
            "epoch: 176 loss: tensor(1.8291)\n",
            "epoch: 177 loss: tensor(1.8289)\n",
            "epoch: 178 loss: tensor(1.8294)\n",
            "epoch: 179 loss: tensor(1.8276)\n",
            "epoch: 180 loss: tensor(1.8271)\n",
            "epoch: 181 loss: tensor(1.8292)\n",
            "epoch: 182 loss: tensor(1.8273)\n",
            "epoch: 183 loss: tensor(1.8275)\n",
            "epoch: 184 loss: tensor(1.8271)\n",
            "epoch: 185 loss: tensor(1.8277)\n",
            "epoch: 186 loss: tensor(1.8268)\n",
            "epoch: 187 loss: tensor(1.8269)\n",
            "epoch: 188 loss: tensor(1.8277)\n",
            "epoch: 189 loss: tensor(1.8269)\n",
            "epoch: 190 loss: tensor(1.8266)\n",
            "epoch: 191 loss: tensor(1.8270)\n",
            "epoch: 192 loss: tensor(1.8269)\n",
            "epoch: 193 loss: tensor(1.8269)\n",
            "epoch: 194 loss: tensor(1.8266)\n",
            "epoch: 195 loss: tensor(1.8267)\n",
            "epoch: 196 loss: tensor(1.8267)\n",
            "epoch: 197 loss: tensor(1.8263)\n",
            "epoch: 198 loss: tensor(1.8263)\n",
            "epoch: 199 loss: tensor(1.8263)\n",
            "epoch: 200 loss: tensor(1.8258)\n"
          ],
          "name": "stdout"
        }
      ]
    },
    {
      "metadata": {
        "id": "AO_PyB1WtML5",
        "colab_type": "text"
      },
      "cell_type": "markdown",
      "source": [
        "# Test SAE"
      ]
    },
    {
      "metadata": {
        "id": "MNnyoS0ztRZp",
        "colab_type": "code",
        "colab": {
          "base_uri": "https://localhost:8080/",
          "height": 88
        },
        "outputId": "7ed45063-d8f7-487a-ecc4-b94681651c10"
      },
      "cell_type": "code",
      "source": [
        "test_loss = 0\n",
        "s = 0.\n",
        "for id_user in range(nb_users):\n",
        "    input = Variable(training_set[id_user]).unsqueeze(0)\n",
        "    target = Variable(test_set[id_user]).unsqueeze(0)\n",
        "    if torch.sum(target.data > 0) > 0:\n",
        "        output = sae(input)\n",
        "        target.require_grad = False\n",
        "        output[target == 0] = 0\n",
        "        loss = criterion(output, target)\n",
        "        mean_corrector = nb_movies/float(torch.sum(target.data > 0) + 1e-10)\n",
        "        test_loss += np.sqrt(loss.data[0]*mean_corrector)\n",
        "        s += 1.\n",
        "print('test loss: '+str(test_loss/s))"
      ],
      "execution_count": 27,
      "outputs": [
        {
          "output_type": "stream",
          "text": [
            "test loss: tensor(2.2941)\n"
          ],
          "name": "stdout"
        },
        {
          "output_type": "stream",
          "text": [
            "/usr/local/lib/python3.6/dist-packages/ipykernel_launcher.py:12: UserWarning: invalid index of a 0-dim tensor. This will be an error in PyTorch 0.5. Use tensor.item() to convert a 0-dim tensor to a Python number\n",
            "  if sys.path[0] == '':\n"
          ],
          "name": "stderr"
        }
      ]
    },
    {
      "metadata": {
        "id": "BGx-1yiGuGl2",
        "colab_type": "code",
        "colab": {}
      },
      "cell_type": "code",
      "source": [
        ""
      ],
      "execution_count": 0,
      "outputs": []
    }
  ]
}